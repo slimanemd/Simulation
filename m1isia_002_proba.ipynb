{
 "cells": [
  {
   "cell_type": "markdown",
   "metadata": {},
   "source": [
    "||\n",
    "|:--------------------------------------------------------------------------:|\n",
    "|<h1>Modelisation et evaluation des performances systemes</h1>|\n",
    "|<h3>University UHB-Chlef - Master 1 informatique </h3>|\n",
    "|<h4>Dr Ibri sarah and Slimane Mohamed</h4>|\n",
    "</center>"
   ]
  },
  {
   "cell_type": "markdown",
   "metadata": {},
   "source": [
    "## Introduction\n",
    "Ce notebook est une introduction avec le python aux technique de la modelisation et la simulation des phenomenes stochastiques en utilisant les modules et librairies implementant les concepts clés de la theorie de probabilités et des processus stochastiques."
   ]
  },
  {
   "cell_type": "markdown",
   "metadata": {},
   "source": []
  },
  {
   "cell_type": "code",
   "execution_count": 17,
   "metadata": {},
   "outputs": [],
   "source": [
    "from fractions import Fraction\n",
    "from functools import partial\n",
    "import numpy as np"
   ]
  },
  {
   "cell_type": "code",
   "execution_count": 7,
   "metadata": {},
   "outputs": [
    {
     "name": "stdout",
     "output_type": "stream",
     "text": [
      "Univers Omega :  {1, 2, 3, 4, 5, 6}\n",
      "Event A :  {2, 5}\n",
      "Event B :  {3, 4, 5}\n",
      "Is subset A from Omega :  True\n",
      "Event complement of A :  {1, 3, 4, 6}\n"
     ]
    }
   ],
   "source": [
    "re_Xxx_Omega01 = {1,2,3,4,5,6}     ;print(\"Univers Omega : \", re_Xxx_Omega01)   #univers Omega\n",
    "ev_A = {2,5}                       ;print(\"Event A : \", ev_A)                   #event A\n",
    "ev_B = {3,4,5}                     ;print(\"Event B : \",ev_B)                    #event B  #C = A | B                print(C)\n",
    "estDans = ev_A < re_Xxx_Omega01    ;print(\"Is subset A from Omega : \", estDans) # is subset\n",
    "ev_Abar = re_Xxx_Omega01 - ev_A    ;print(\"Event complement of A : \", ev_Abar)  #complement"
   ]
  },
  {
   "cell_type": "markdown",
   "metadata": {},
   "source": [
    "### Probabilité\n",
    "- Soit $\\Omega$ <b>univers fini</b> dont les elements sont <b>equiprobables</b> et $A$ un <b>evenement</b>, la <b>probabilité</b> de $A$ est :\n",
    "$$P(A) = \\frac{|A|}{|\\Omega|}$$"
   ]
  },
  {
   "cell_type": "code",
   "execution_count": 1,
   "metadata": {},
   "outputs": [],
   "source": [
    "#\"The probability of an event, given a finite sample space of equiprobable outcomes.\"\n",
    "Pde = lambda Omega : { omega:Fraction(1,len(Omega)) for omega in Omega }         #distribution\n",
    "Pe  = lambda Omega, Event : (0,Fraction(len(Event), len(Omega)))[Event < Omega]  #probabilité equo"
   ]
  },
  {
   "cell_type": "code",
   "execution_count": 9,
   "metadata": {},
   "outputs": [
    {
     "name": "stdout",
     "output_type": "stream",
     "text": [
      "1/3\n",
      "{1: Fraction(1, 6), 2: Fraction(1, 6), 3: Fraction(1, 6), 4: Fraction(1, 6), 5: Fraction(1, 6), 6: Fraction(1, 6)}\n"
     ]
    }
   ],
   "source": [
    "Pe_Xxx_01 = partial(Pe,re_Xxx_Omega01)\n",
    "pe_A = Pe_Xxx_01(ev_A);  print(pe_A)\n",
    "\n",
    "Pde_Xxx_01 = Pde(re_Xxx_Omega01)\n",
    "print(Pde_Xxx_01)"
   ]
  },
  {
   "cell_type": "code",
   "execution_count": 14,
   "metadata": {},
   "outputs": [],
   "source": [
    "#isProbability\n",
    "isPositive    = lambda distribution : all(v >= 0 for v in distribution.values())\n",
    "isNormed      = lambda distribution : sum(distribution.values()) == 1\n",
    "isProbability = lambda distribution : isPositive(distribution) and isNormed(distribution)"
   ]
  },
  {
   "cell_type": "code",
   "execution_count": 15,
   "metadata": {},
   "outputs": [],
   "source": [
    "#example\n",
    "Pd1_Xxx_01 = {1: Fraction(2, 6), \n",
    "              2: Fraction(1, 12), \n",
    "              3: Fraction(1, 12), \n",
    "              4: Fraction(1, 6), \n",
    "              5: Fraction(1, 6), \n",
    "              6: Fraction(1, 6)}\n",
    "print(Pd1_Xxx_01)\n",
    "isProbability(Pd1_Xxx_01)"
   ]
  },
  {
   "cell_type": "markdown",
   "metadata": {},
   "source": [
    "#### Exercice 01 :\n",
    "Ecrire un code qui verifie si un dictionnaire est une probabilité?"
   ]
  },
  {
   "cell_type": "code",
   "execution_count": 19,
   "metadata": {},
   "outputs": [
    {
     "data": {
      "image/png": "[encoded data removed]",
      "text/plain": [
       "<matplotlib.figure.Figure at 0xdd2de77b8>"
      ]
     },
     "metadata": {
      "needs_background": "light"
     },
     "output_type": "display_data"
    }
   ],
   "source": [
    "import matplotlib.pyplot as plt\n",
    "\n",
    "def plotDistribution(pDist):\n",
    "    mData = pDist.values()            #print(mData)[1/6 for i in Pd1_Xxx_01.values()]\n",
    "    xData = np.arange(len(mData))     #;print(xData)\n",
    "    xLabels = pDist.keys()            #;print(xLabels)\n",
    "\n",
    "    width, dx = 0.1, 0.01             #  the width of the bars  #dx =0.02 #width/16\n",
    "    plt.bar(xData + dx, mData, width) #, color='SkyBlue', label='Men')\n",
    "    #plt.xticks(ind, xLabels)\n",
    "    plt.show()\n",
    "    \n",
    "plotDistribution(Pd1_Xxx_01)"
   ]
  },
  {
   "cell_type": "markdown",
   "metadata": {},
   "source": [
    "#### Combinatoric probability\n",
    "\n",
    "\n",
    "|                 | Order yes | Order Non|\n",
    "|-----------------|----------------------------------------|---|\n",
    "| <b>Repetition yes</b> | List $$L_n^k = n^k$$   |  Arrangement/Permunation $$A_n^k = \\frac{n!}{(n-k)!} \\text{       } (P_n = A_n^n = n!)$$  |\n",
    "| <b>Repetition non</b> | Combination $$C_n^k = \\binom{k}{n} = \\frac{n!}{k!(n-k)!}$$ | Combination with replacement $$R_n^k = \\binom{(n-1)+k}{n-1} = \\binom{n+k-1}{k} = \\frac{(n+k-1)!}{k!(n-1)!} $$ |\n",
    "\n",
    "\n",
    "\n",
    "\n",
    "\n",
    "\n",
    "\n",
    "\n",
    "\n",
    "$$L_n^k = n^k$$\n",
    "\n",
    "$$A_n^k = \\frac{n!}{(n-k)!} \\text{       } (P_n = A_n^n = n!)$$\n",
    "\n",
    "$$C_n^k = \\binom{k}{n} = \\frac{n!}{k!(n-k)!}$$\n",
    "\n",
    "$$R_n^k = \\binom{(n-1)+k}{n-1} = \\binom{n+k-1}{k} = \\frac{(n+k-1)!}{k!(n-1)!} $$\n",
    "\n"
   ]
  },
  {
   "cell_type": "code",
   "execution_count": 21,
   "metadata": {},
   "outputs": [
    {
     "name": "stdout",
     "output_type": "stream",
     "text": [
      "120\n",
      "20\n",
      "10\n",
      "15\n"
     ]
    }
   ],
   "source": [
    "import itertools as it\n",
    "import math   #Fac = math.factorial   \n",
    "\n",
    "h  = lambda  st, nb : set( it.islice(st, nb))\n",
    "hs = lambda  st, nb : list(it.islice(st, nb))\n",
    "hd = lambda dic, nb : dict(it.islice(dic, nb))\n",
    "\n",
    "P_n   = Fac = math.factorial                             ;print(Fac(5))         #permutations number\n",
    "A_n_k = lambda n , k : int(Fac(n)/Fac(n-k))              ;print(A_n_k(5,2))     #arrangements number\n",
    "C_n_k = lambda n , k : int(Fac(n)/(Fac(k)*Fac(n-k)))     ;print(C_n_k(5,2))     #combinations number\n",
    "R_n_k = lambda n , k : int(Fac(n+k-1)/(Fac(k)*Fac(n-1))) ;print(R_n_k(5,2))     #combinations with replacement number\n",
    "\n",
    "itComb = it.combinations\n",
    "itPerm = lambda itrator :  it.permutations(itrator)\n",
    "itArr  = it.permutations\n",
    "itCrpl = it.combinations_with_replacement\n",
    "itProd = it.product"
   ]
  },
  {
   "cell_type": "code",
   "execution_count": 24,
   "metadata": {},
   "outputs": [
    {
     "name": "stdout",
     "output_type": "stream",
     "text": [
      "r001 :  {(1, 2), (1, 3), (4, 5), (1, 4), (1, 5), (2, 3), (2, 5), (3, 4), (2, 4), (3, 5)}\n",
      "10   10\n",
      "r002 :  [('A', 'B'), ('A', 'C'), ('A', 'D'), ('B', 'C'), ('B', 'D'), ('C', 'D')]\n",
      "6   6\n",
      "r003 :  {(0, 1, 2), (0, 2, 3), (1, 2, 3), (0, 1, 3)}\n",
      "4   4\n"
     ]
    }
   ],
   "source": [
    "#combination, permutation/arrangement,   #set(it.count(10)) #set(it.chain('ABC', 'DEF'))\n",
    "\n",
    "#combination\n",
    "r001= set(itComb({1,2,3,4,5}, 2)) ;print(\"r001 : \",r001)   ;print(len(r001), \" \", C_n_k(5,2))\n",
    "r002= list(itComb('ABCD', 2))     ;print(\"r002 : \",r002)   ;print(len(r002), \" \", C_n_k(4,2))\n",
    "r003= set(itComb(range(4), 3))    ;print(\"r003 : \",r003)   ;print(len(r003), \" \", C_n_k(4,3))"
   ]
  },
  {
   "cell_type": "code",
   "execution_count": 28,
   "metadata": {},
   "outputs": [
    {
     "name": "stdout",
     "output_type": "stream",
     "text": [
      "r004 :  {(3, 1, 2), (1, 3, 2), (3, 2, 1), (2, 3, 1), (1, 2, 3), (2, 1, 3)}\n",
      "6    6\n",
      "r005 :  {(1, 2), (3, 2), (1, 3), (4, 1), (3, 1), (2, 1), (1, 4), (2, 3), (4, 3), (4, 2), (3, 4), (2, 4)}\n",
      "12    12\n"
     ]
    }
   ],
   "source": [
    "#permutations & arrangement\n",
    "r004= set(itPerm([1, 2, 3]))      ;print(\"r004 : \",r004)   ;print(len(r004),\"  \",P_n(3))\n",
    "r005= set(itArr([1, 2, 3, 4], 2)) ;print(\"r005 : \",r005)   ;print(len(r005),\"  \",A_n_k(4,2))"
   ]
  },
  {
   "cell_type": "code",
   "execution_count": 26,
   "metadata": {},
   "outputs": [
    {
     "name": "stdout",
     "output_type": "stream",
     "text": [
      "r006 :  {(1, 2), (1, 3), (3, 3), (5, 5), (4, 5), (4, 4), (1, 4), (1, 5), (2, 4), (2, 3), (2, 2), (2, 5), (3, 4), (1, 1), (3, 5)}\n",
      "15   15\n",
      "r007 :  {('A', 'A'), ('C', 'C'), ('A', 'B'), ('B', 'B'), ('B', 'C'), ('A', 'C')}\n",
      "6   6\n"
     ]
    }
   ],
   "source": [
    "#combination with replacement\n",
    "r006= set(itCrpl({1,2,3,4,5}, 2)) ;print(\"r006 : \",r006)  ;print(len(r006), \" \", R_n_k(5,2))\n",
    "r007= set(itCrpl('ABC', 2))       ;print(\"r007 : \",r007)  ;print(len(r007), \" \", R_n_k(3,2))"
   ]
  },
  {
   "cell_type": "code",
   "execution_count": 27,
   "metadata": {},
   "outputs": [
    {
     "name": "stdout",
     "output_type": "stream",
     "text": [
      "r008 :  {('C', 'H'), ('E', 'H'), ('E', 'F'), ('A', 'B'), ('E', 'G'), ('A', 'E'), ('A', 'F'), ('D', 'H'), ('D', 'F'), ('D', 'E'), ('C', 'G'), ('C', 'E'), ('G', 'H'), ('B', 'C'), ('A', 'D'), ('B', 'D'), ('A', 'C'), ('B', 'G'), ('C', 'D'), ('B', 'H'), ('B', 'F'), ('F', 'G'), ('B', 'E'), ('A', 'H'), ('C', 'F'), ('F', 'H'), ('D', 'G'), ('A', 'G')}\n",
      "28   28\n",
      "r009 :  {('K', 'M'), ('M', 'N'), ('J', 'L'), ('I', 'N'), ('K', 'L'), ('I', 'M'), ('J', 'M'), ('J', 'K'), ('I', 'J'), ('I', 'K'), ('L', 'N'), ('K', 'N'), ('J', 'N'), ('I', 'L'), ('L', 'M')}\n",
      "15   15\n",
      "r010 :  {('O', 'R'), ('P', 'R'), ('P', 'Q'), ('O', 'P'), ('O', 'Q'), ('Q', 'R')}\n",
      "6   6\n",
      "r011 :  {('S', 'T')}\n",
      "1   1\n"
     ]
    }
   ],
   "source": [
    "r008= set(itComb('ABCDEFGH', 2))  ;print(\"r008 : \",r008)  ;print(len(r008), \" \", C_n_k(8,2))\n",
    "r009= set(itComb('IJKLMN', 2))    ;print(\"r009 : \",r009)  ;print(len(r009), \" \", C_n_k(6,2))\n",
    "r010= set(itComb('OPQR', 2))      ;print(\"r010 : \",r010)  ;print(len(r010), \" \", C_n_k(4,2))\n",
    "r011= set(itComb('ST', 2))        ;print(\"r011 : \",r011)  ;print(len(r011), \" \", C_n_k(2,2))"
   ]
  },
  {
   "cell_type": "code",
   "execution_count": 14,
   "metadata": {},
   "outputs": [],
   "source": [
    "r012 =  set(itProd(r008, r009, r010, r011))\n",
    "print(h(r012, 3),'    ',len(r012), '   ',C_n_k(8,2)*C_n_k(6,2)*C_n_k(4,2) )"
   ]
  },
  {
   "cell_type": "code",
   "execution_count": 3,
   "metadata": {},
   "outputs": [
    {
     "ename": "NameError",
     "evalue": "name 'itProd' is not defined",
     "output_type": "error",
     "traceback": [
      "\u001b[1;31m---------------------------------------------------------------------------\u001b[0m",
      "\u001b[1;31mNameError\u001b[0m                                 Traceback (most recent call last)",
      "\u001b[1;32m<ipython-input-3-b35bfadf6531>\u001b[0m in \u001b[0;36m<module>\u001b[1;34m()\u001b[0m\n\u001b[0;32m      1\u001b[0m \u001b[1;31m#product\u001b[0m\u001b[1;33m\u001b[0m\u001b[1;33m\u001b[0m\u001b[0m\n\u001b[1;32m----> 2\u001b[1;33m \u001b[0mr007\u001b[0m \u001b[1;33m=\u001b[0m \u001b[0mset\u001b[0m\u001b[1;33m(\u001b[0m\u001b[0mitProd\u001b[0m\u001b[1;33m(\u001b[0m\u001b[1;33m{\u001b[0m\u001b[1;34m'F'\u001b[0m\u001b[1;33m,\u001b[0m\u001b[1;34m'P'\u001b[0m\u001b[1;33m}\u001b[0m\u001b[1;33m,\u001b[0m \u001b[0mrange\u001b[0m\u001b[1;33m(\u001b[0m\u001b[1;36m1\u001b[0m\u001b[1;33m,\u001b[0m\u001b[1;36m6\u001b[0m\u001b[1;33m)\u001b[0m\u001b[1;33m)\u001b[0m\u001b[1;33m)\u001b[0m\u001b[1;33m;\u001b[0m \u001b[0mprint\u001b[0m\u001b[1;33m(\u001b[0m\u001b[0mr007\u001b[0m\u001b[1;33m)\u001b[0m\u001b[1;33m\u001b[0m\u001b[0m\n\u001b[0m",
      "\u001b[1;31mNameError\u001b[0m: name 'itProd' is not defined"
     ]
    }
   ],
   "source": [
    "#product\n",
    "r007 = set(itProd({'F','P'}, range(1,6))); print(r007)"
   ]
  },
  {
   "cell_type": "code",
   "execution_count": 2,
   "metadata": {},
   "outputs": [
    {
     "ename": "NameError",
     "evalue": "name 'itComb' is not defined",
     "output_type": "error",
     "traceback": [
      "\u001b[1;31m---------------------------------------------------------------------------\u001b[0m",
      "\u001b[1;31mNameError\u001b[0m                                 Traceback (most recent call last)",
      "\u001b[1;32m<ipython-input-2-73b281726a56>\u001b[0m in \u001b[0;36m<module>\u001b[1;34m()\u001b[0m\n\u001b[1;32m----> 1\u001b[1;33m \u001b[0mr001\u001b[0m\u001b[1;33m=\u001b[0m \u001b[0mset\u001b[0m\u001b[1;33m(\u001b[0m\u001b[0mitComb\u001b[0m\u001b[1;33m(\u001b[0m\u001b[1;33m{\u001b[0m\u001b[1;34m'E1'\u001b[0m\u001b[1;33m,\u001b[0m\u001b[1;34m'E2'\u001b[0m\u001b[1;33m,\u001b[0m\u001b[1;34m'S1'\u001b[0m\u001b[1;33m,\u001b[0m\u001b[1;34m'S2'\u001b[0m\u001b[1;33m,\u001b[0m\u001b[1;34m'I1'\u001b[0m\u001b[1;33m,\u001b[0m \u001b[1;34m'I2'\u001b[0m\u001b[1;33m,\u001b[0m \u001b[1;34m'A1'\u001b[0m\u001b[1;33m,\u001b[0m\u001b[1;34m'A2'\u001b[0m\u001b[1;33m}\u001b[0m\u001b[1;33m,\u001b[0m \u001b[1;36m2\u001b[0m\u001b[1;33m)\u001b[0m\u001b[1;33m)\u001b[0m \u001b[1;33m;\u001b[0m\u001b[0mprint\u001b[0m\u001b[1;33m(\u001b[0m\u001b[1;34m\"r001 : \"\u001b[0m\u001b[1;33m,\u001b[0m\u001b[0mr001\u001b[0m\u001b[1;33m)\u001b[0m   \u001b[1;33m;\u001b[0m\u001b[0mprint\u001b[0m\u001b[1;33m(\u001b[0m\u001b[0mlen\u001b[0m\u001b[1;33m(\u001b[0m\u001b[0mr001\u001b[0m\u001b[1;33m)\u001b[0m\u001b[1;33m,\u001b[0m \u001b[1;34m\" \"\u001b[0m\u001b[1;33m,\u001b[0m \u001b[0mC_n_k\u001b[0m\u001b[1;33m(\u001b[0m\u001b[1;36m8\u001b[0m\u001b[1;33m,\u001b[0m\u001b[1;36m2\u001b[0m\u001b[1;33m)\u001b[0m\u001b[1;33m)\u001b[0m\u001b[1;33m\u001b[0m\u001b[0m\n\u001b[0m\u001b[0;32m      2\u001b[0m \u001b[0mr002\u001b[0m\u001b[1;33m=\u001b[0m \u001b[0mset\u001b[0m\u001b[1;33m(\u001b[0m\u001b[0mitComb\u001b[0m\u001b[1;33m(\u001b[0m\u001b[1;33m{\u001b[0m\u001b[1;34m'Q11'\u001b[0m\u001b[1;33m,\u001b[0m\u001b[1;34m'Q12'\u001b[0m\u001b[1;33m,\u001b[0m\u001b[1;34m'Q21'\u001b[0m\u001b[1;33m,\u001b[0m \u001b[1;34m'Q22'\u001b[0m\u001b[1;33m,\u001b[0m \u001b[1;34m'Q31'\u001b[0m\u001b[1;33m,\u001b[0m\u001b[1;34m'Q32'\u001b[0m\u001b[1;33m}\u001b[0m\u001b[1;33m,\u001b[0m \u001b[1;36m2\u001b[0m\u001b[1;33m)\u001b[0m\u001b[1;33m)\u001b[0m \u001b[1;33m;\u001b[0m\u001b[0mprint\u001b[0m\u001b[1;33m(\u001b[0m\u001b[1;34m\"r002 : \"\u001b[0m\u001b[1;33m,\u001b[0m\u001b[0mr002\u001b[0m\u001b[1;33m)\u001b[0m   \u001b[1;33m;\u001b[0m\u001b[0mprint\u001b[0m\u001b[1;33m(\u001b[0m\u001b[0mlen\u001b[0m\u001b[1;33m(\u001b[0m\u001b[0mr002\u001b[0m\u001b[1;33m)\u001b[0m\u001b[1;33m,\u001b[0m \u001b[1;34m\" \"\u001b[0m\u001b[1;33m,\u001b[0m \u001b[0mC_n_k\u001b[0m\u001b[1;33m(\u001b[0m\u001b[1;36m6\u001b[0m\u001b[1;33m,\u001b[0m\u001b[1;36m2\u001b[0m\u001b[1;33m)\u001b[0m\u001b[1;33m)\u001b[0m\u001b[1;33m\u001b[0m\u001b[0m\n\u001b[0;32m      3\u001b[0m \u001b[0mr003\u001b[0m\u001b[1;33m=\u001b[0m \u001b[0mset\u001b[0m\u001b[1;33m(\u001b[0m\u001b[0mitComb\u001b[0m\u001b[1;33m(\u001b[0m\u001b[1;33m{\u001b[0m\u001b[1;34m'P11'\u001b[0m\u001b[1;33m,\u001b[0m\u001b[1;34m'P12'\u001b[0m\u001b[1;33m,\u001b[0m\u001b[1;34m'P21'\u001b[0m\u001b[1;33m,\u001b[0m \u001b[1;34m'P22'\u001b[0m\u001b[1;33m}\u001b[0m\u001b[1;33m,\u001b[0m \u001b[1;36m2\u001b[0m\u001b[1;33m)\u001b[0m\u001b[1;33m)\u001b[0m \u001b[1;33m;\u001b[0m\u001b[0mprint\u001b[0m\u001b[1;33m(\u001b[0m\u001b[1;34m\"r003 : \"\u001b[0m\u001b[1;33m,\u001b[0m\u001b[0mr003\u001b[0m\u001b[1;33m)\u001b[0m   \u001b[1;33m;\u001b[0m\u001b[0mprint\u001b[0m\u001b[1;33m(\u001b[0m\u001b[0mlen\u001b[0m\u001b[1;33m(\u001b[0m\u001b[0mr003\u001b[0m\u001b[1;33m)\u001b[0m\u001b[1;33m,\u001b[0m \u001b[1;34m\" \"\u001b[0m\u001b[1;33m,\u001b[0m \u001b[0mC_n_k\u001b[0m\u001b[1;33m(\u001b[0m\u001b[1;36m4\u001b[0m\u001b[1;33m,\u001b[0m\u001b[1;36m2\u001b[0m\u001b[1;33m)\u001b[0m\u001b[1;33m)\u001b[0m\u001b[1;33m\u001b[0m\u001b[0m\n\u001b[0;32m      4\u001b[0m \u001b[0mr004\u001b[0m\u001b[1;33m=\u001b[0m \u001b[0mset\u001b[0m\u001b[1;33m(\u001b[0m\u001b[0mitComb\u001b[0m\u001b[1;33m(\u001b[0m\u001b[1;33m{\u001b[0m\u001b[1;34m'N11'\u001b[0m\u001b[1;33m,\u001b[0m\u001b[1;34m'N12'\u001b[0m\u001b[1;33m}\u001b[0m\u001b[1;33m,\u001b[0m \u001b[1;36m2\u001b[0m\u001b[1;33m)\u001b[0m\u001b[1;33m)\u001b[0m \u001b[1;33m;\u001b[0m\u001b[0mprint\u001b[0m\u001b[1;33m(\u001b[0m\u001b[1;34m\"r004 : \"\u001b[0m\u001b[1;33m,\u001b[0m\u001b[0mr004\u001b[0m\u001b[1;33m)\u001b[0m   \u001b[1;33m;\u001b[0m\u001b[0mprint\u001b[0m\u001b[1;33m(\u001b[0m\u001b[0mlen\u001b[0m\u001b[1;33m(\u001b[0m\u001b[0mr004\u001b[0m\u001b[1;33m)\u001b[0m\u001b[1;33m,\u001b[0m \u001b[1;34m\" \"\u001b[0m\u001b[1;33m,\u001b[0m \u001b[0mC_n_k\u001b[0m\u001b[1;33m(\u001b[0m\u001b[1;36m2\u001b[0m\u001b[1;33m,\u001b[0m\u001b[1;36m2\u001b[0m\u001b[1;33m)\u001b[0m\u001b[1;33m)\u001b[0m\u001b[1;33m\u001b[0m\u001b[0m\n\u001b[0;32m      5\u001b[0m \u001b[1;33m\u001b[0m\u001b[0m\n",
      "\u001b[1;31mNameError\u001b[0m: name 'itComb' is not defined"
     ]
    }
   ],
   "source": [
    "r001= set(itComb({'E1','E2','S1','S2','I1', 'I2', 'A1','A2'}, 2)) ;print(\"r001 : \",r001)   ;print(len(r001), \" \", C_n_k(8,2))\n",
    "r002= set(itComb({'Q11','Q12','Q21', 'Q22', 'Q31','Q32'}, 2)) ;print(\"r002 : \",r002)   ;print(len(r002), \" \", C_n_k(6,2))\n",
    "r003= set(itComb({'P11','P12','P21', 'P22'}, 2)) ;print(\"r003 : \",r003)   ;print(len(r003), \" \", C_n_k(4,2))\n",
    "r004= set(itComb({'N11','N12'}, 2)) ;print(\"r004 : \",r004)   ;print(len(r004), \" \", C_n_k(2,2))\n",
    "\n",
    "r000 =  set(itProd(r001, r002, r003, r004))    ; print(h(r000,4),'   ', len(r000),'    ', C_n_k(8,2)*C_n_k(6,2)*C_n_k(4,2)*C_n_k(2,2))"
   ]
  },
  {
   "cell_type": "code",
   "execution_count": 31,
   "metadata": {},
   "outputs": [],
   "source": [
    "p1 =  (('S2', 'E1'), ('E1', 'S1'))\n",
    "def vld(pp):\n",
    "    S = set({})\n",
    "    for i in pp:\n",
    "        #print(i)\n",
    "        if i[0]==i[1]:\n",
    "            return ()\n",
    "        if i[0] in S or i[1] in S:\n",
    "            return ()\n",
    "        S.add(i[0])\n",
    "        S.add(i[1])\n",
    "        #print(S)\n",
    "    return pp\n",
    "vld(p1) != ()\n",
    "\n",
    "#st = (('S2', 'S2'), ('S2', 'E2'), ('E1', 'E2'), ('E1', 'S1'))\n",
    "#vld(st)\n",
    "\n",
    "M = {'E1','E2','S1','S2'}  #,'G1','G2','I1','I2'}\n",
    "dd = set(itComb(M,2))                      #print(dd,'  ', C_n_k(4,2))  #print(h(dd,50))\n",
    "pp =   set(itComb(dd,2))                   #print(pp,'  ', len(pp),'  ', C_n_k(C_n_k(4,2),2))\n",
    "qq = [ i for i in pp if vld(i) != ()]      #print(qq,'    ', len(qq),'    ', C_n_k(4,2))"
   ]
  },
  {
   "cell_type": "code",
   "execution_count": 171,
   "metadata": {},
   "outputs": [
    {
     "name": "stdout",
     "output_type": "stream",
     "text": [
      "{('W', 1), ('W', 2), ('W', 3), ('W', 4), ('W', 5)}\n"
     ]
    }
   ],
   "source": [
    "#product\n",
    "r007 = set(itProd('W', range(1,6))); print(r007)"
   ]
  },
  {
   "cell_type": "markdown",
   "metadata": {},
   "source": [
    "# Example\n",
    "give the model and its code for the following problem :<br>\n",
    "An urn contains 23 balls: 8 white, 6 blue, and 9 red. <br>\n",
    "We select 6 balls at random (each possible selection is equally likely). <br>\n",
    "What is the probability of each of these possible outcomes:"
   ]
  },
  {
   "cell_type": "code",
   "execution_count": 172,
   "metadata": {},
   "outputs": [
    {
     "name": "stdout",
     "output_type": "stream",
     "text": [
      "{('R', 0), ('B', 1), ('W', 1), ('R', 2), ('B', 3), ('W', 3), ('R', 4), ('R', 6), ('W', 4), ('B', 4), ('R', 8), ('W', 6), ('R', 1), ('W', 0), ('R', 3), ('B', 0), ('W', 2), ('R', 5), ('B', 2), ('R', 7), ('B', 5), ('W', 5), ('W', 7)}\n",
      "23\n"
     ]
    }
   ],
   "source": [
    "#to model this problem we will use the following conventions : W for white, B for blue, R for red \n",
    "g = lambda c, n : set(itProd(c, range(n)))   #model n numbered balls \n",
    "\n",
    "urn_w = g('W',8)   # 8 white balls of the urn\n",
    "urn_b = g('B',6)   # 6 blue balls of the urn\n",
    "urn_r = g('R',9)   # 9 red balls of the urn\n",
    "\n",
    "#the model of the urn\n",
    "urn001 = urn_w | urn_b | urn_r           ;print(urn001)    ;print(len(urn001))"
   ]
  },
  {
   "cell_type": "code",
   "execution_count": 176,
   "metadata": {},
   "outputs": [
    {
     "name": "stdout",
     "output_type": "stream",
     "text": [
      "{(('R', 0), ('R', 2), ('B', 0), ('R', 7), ('B', 5), ('W', 7)), (('B', 3), ('W', 3), ('B', 4), ('R', 8), ('R', 1), ('W', 5)), (('W', 1), ('W', 4), ('W', 0), ('B', 0), ('B', 5), ('W', 7)), (('R', 2), ('W', 3), ('R', 6), ('W', 0), ('R', 3), ('W', 2))}\n",
      "100947   100947\n",
      "0.6\n",
      "[(('W', 1), ('W', 4), ('W', 0), ('B', 0), ('B', 5), ('W', 7)), (('R', 0), ('R', 2), ('B', 0), ('R', 7), ('B', 5), ('W', 7)), (('R', 2), ('W', 3), ('R', 6), ('W', 0), ('R', 3), ('W', 2))]\n",
      "[0.6, 0.6, 0.6]\n"
     ]
    }
   ],
   "source": [
    "#Random experiment : select 6 balls at random (each possible selection is equally likely).    #print(set(it.islice(omega01, 4)))\n",
    "\n",
    "#probabilisable space (Omega, Tribu, Probability)  \n",
    "re_001_Omega01 = set(itComb(urn001, 6)); print(h(re_001_Omega01, 4)) \n",
    "print(len(re_001_Omega01),\" \", C_n_k(23,6))  #1- Omega = all possible results #tribu01 = ??????\n",
    "\n",
    "#tribu01 = ??????\n",
    "Pe_00101 = { omega:0.6 for omega in re_001_Omega01 }  #probability\n",
    "ps00101 =  (re_001_Omega01, Pe_00101)\n",
    "\n",
    "print(Pe_00101[(('R', 0), ('R', 2), ('B', 0), ('R', 7), ('B', 5), ('W', 7))])\n",
    "print(hs(Pe_00101.keys(),3))\n",
    "print(hs(Pe_00101.values(),3))"
   ]
  },
  {
   "cell_type": "code",
   "execution_count": 181,
   "metadata": {},
   "outputs": [
    {
     "name": "stdout",
     "output_type": "stream",
     "text": [
      "{('R', 0), ('R', 5), ('R', 3), ('R', 2)}\n",
      "84     84\n"
     ]
    }
   ],
   "source": [
    "#- A1 = all balls are red\n",
    "ev_E1_6R = set(itComb(urn_r, 6))    ;print(h(urn_r, 4))  ;print(len(ev_E1_6R), \"   \",C_n_k(9,6))"
   ]
  },
  {
   "cell_type": "code",
   "execution_count": null,
   "metadata": {},
   "outputs": [],
   "source": [
    "#- A2 = 3 are blue, 2 are white, and 1 is red  principe de composition \n",
    "ev_E20_3B = set(itComb(urn_b, 3))   \n",
    "print(h(urn_b, 4))      \n",
    "c3B = C_n_k(6,3)  \n",
    "print(len(ev_E20_3B), \"   \",c3B)\n",
    "\n",
    "ev_E21_2W = set(itComb(urn_w, 2))   ;print(h(urn_w, 4))      ;c2W = C_n_k(8,2)  ;print(len(ev_E21_2W), \"   \",c2W)\n",
    "ev_E22_1R = set(itComb(urn_r, 1))   ;print(h(urn_r, 4))      ;c1R = C_n_k(9,1)  ;print(len(ev_E22_1R), \"   \",c1R)\n",
    "ev_E2_3B2W1R = set(itProd(ev_E20_3B, ev_E21_2W, ev_E22_1R))  ;c3B2W1R = c3B*c2W*c1R ;print(h(ev_E2_3B2W1R, 4)) ;print(len(ev_E2_3B2W1R),\" \",c3B2W1R)\n",
    "\n",
    "print(Pe(re_001_Omega01, ev_E2_3B2W1R))\n",
    "ev_E2_3B2W1R < re_001_Omega01"
   ]
  },
  {
   "cell_type": "markdown",
   "metadata": {},
   "source": [
    "### Exercice 02 :\n",
    "Ecrire le code du 3ieme evenement"
   ]
  },
  {
   "cell_type": "code",
   "execution_count": 202,
   "metadata": {},
   "outputs": [
    {
     "name": "stdout",
     "output_type": "stream",
     "text": [
      "{('W', 2), ('W', 0), ('W', 3), ('W', 1)}\n",
      "70     70\n",
      "{('R', 0), ('B', 1), ('R', 3), ('R', 1)}\n",
      "105     105\n",
      "{((('W', 0), ('W', 3), ('W', 5), ('W', 6)), (('R', 3), ('R', 4))), ((('W', 0), ('W', 1), ('W', 6), ('W', 7)), (('B', 1), ('R', 6))), ((('W', 0), ('W', 3), ('W', 6), ('W', 7)), (('R', 1), ('R', 3))), ((('W', 0), ('W', 3), ('W', 5), ('W', 7)), (('B', 2), ('R', 4)))}\n",
      "7350   7350\n"
     ]
    }
   ],
   "source": [
    "#- A3 = exactly 4 balls are white\n",
    "ev_E30_4W   = set(itComb(urn_w, 4))              \n",
    "print(h(urn_w, 4))      \n",
    "c4W = C_n_k(8,4)  \n",
    "print(len(ev_E30_4W), \"   \",c4W)\n",
    "\n",
    "#\n",
    "ev_E31_2BR  = set(itComb(urn_b | urn_r, 2))       \n",
    "print(h(urn_b | urn_r, 4))      \n",
    "c2BR = C_n_k(15,2)  \n",
    "print(len(ev_E31_2BR), \"   \",c2BR)\n",
    "\n",
    "#\n",
    "ev_E3_4W2BR = set(itProd(ev_E30_4W, ev_E31_2BR))  \n",
    "c4W2BR = c4W*c2BR \n",
    "print(h(ev_E3_4W2BR, 4)) \n",
    "print(len(ev_E3_4W2BR),\" \",c4W2BR)"
   ]
  },
  {
   "cell_type": "code",
   "execution_count": 233,
   "metadata": {},
   "outputs": [
    {
     "name": "stdout",
     "output_type": "stream",
     "text": [
      "Random experiments sample space : \n",
      "− E1 Toss a Coin Omega :  {H, T}\n"
     ]
    }
   ],
   "source": [
    "# Listing L001 ( Abreviations  re : random experiment )\n",
    "from sympy.stats import Coin , Die, density\n",
    " # stats : SymPy statistics module\n",
    " # Coin(name , p=1/2) : Create a Finite model representing a Coin toss.\n",
    " # density : Create a probability model\n",
    "\n",
    "print('Random experiments sample space : ') #p0\n",
    "#E1\n",
    "re_Coin = Coin('re_Coin1')                           #re : toss coin\n",
    "re_Coin_Omega = set(density(re_Coin).dict.keys())   #get sample space\n",
    "print( \"− E1 Toss a Coin Omega : \" , re_Coin_Omega) #p1"
   ]
  },
  {
   "cell_type": "code",
   "execution_count": 234,
   "metadata": {},
   "outputs": [
    {
     "name": "stdout",
     "output_type": "stream",
     "text": [
      "− E2 Roll dice omega :  {1, 2, 3, 4, 5, 6}\n"
     ]
    }
   ],
   "source": [
    "# Die(name , side s=6) : Create a Finite model representing a fair die.\n",
    "#E2\n",
    "re_Die = Die('re_Die1')                           #re : toss coin\n",
    "re_Die_Omega = set(density(re_Die).dict.keys())   #get sample space\n",
    "print( \"− E2 Roll dice omega : \" , re_Die_Omega) #p1"
   ]
  },
  {
   "cell_type": "code",
   "execution_count": 251,
   "metadata": {},
   "outputs": [
    {
     "name": "stdout",
     "output_type": "stream",
     "text": [
      "− E3 drop 3 Dices Dmega :  {(1, 4, 4), (5, 5, 1), (4, 2, 2), (2, 2, 4)}\n",
      "- Omega length :  216\n"
     ]
    }
   ],
   "source": [
    "#E3\n",
    "re_3Dices_Omega = set(it.product(re_Die_Omega , repeat=3))\n",
    "print(\"− E3 drop 3 Dices Dmega : \" , h(re_3Dices_Omega,4)) #p3\n",
    "print(\"- Omega length : \", len(re_3Dices_Omega))\n",
    "P_3Dices_Omega = Pde(re_3Dices_Omega)  #;print(\"- Probability App : \",P_3Dices_Omega)"
   ]
  },
  {
   "cell_type": "code",
   "execution_count": 277,
   "metadata": {},
   "outputs": [
    {
     "name": "stdout",
     "output_type": "stream",
     "text": [
      "- E Length:  15\n",
      "- Probability of event E :  5/72\n"
     ]
    }
   ],
   "source": [
    "#événement $E$ que 'le score du troisième dé est égal a la somme des scores des deux premiers\n",
    "ev_Property = lambda omega : omega[0]+omega[1] == omega[2]  #f((1,2,3)) True\n",
    "ev_Filter =  lambda evProperty , reOmega : set(filter(evProperty, reOmega))\n",
    "\n",
    "ev_E = ev_Filter(ev_Property, re_3Dices_Omega) ;print(\"- E Length: \",len(ev_E))    \n",
    "p_E = Pe(re_3Dices_Omega, ev_E)                ;print(\"- Probability of event E : \",p_E)"
   ]
  },
  {
   "cell_type": "code",
   "execution_count": 318,
   "metadata": {},
   "outputs": [
    {
     "name": "stdout",
     "output_type": "stream",
     "text": [
      "- Tosse 2 Coins Omega :  {(T, H), (H, T), (H, H), (T, T)}\n",
      "- Proba map :  {(T, H): Fraction(1, 4), (H, T): Fraction(1, 4), (H, H): Fraction(1, 4), (T, T): Fraction(1, 4)}\n",
      "- Event E :  {(T, H), (T, T)}  Probability :  1/2\n",
      "- Event F :  {(H, T), (T, T)}  Probabulity :  1/2\n",
      "- Event E et F :  {(T, T)}  Probability :  1/4\n",
      "- Event K (E or F) :  {(H, T), (T, H), (T, T)}  Probability :  3/4\n"
     ]
    }
   ],
   "source": [
    "re_2Coins_Omega = set(it.product(re_Coin_Omega , repeat=2))  \n",
    "print(\"- Tosse 2 Coins Omega : \",re_2Coins_Omega)\n",
    "\n",
    "P_2Coins_Omega = Pde(re_2Coins_Omega)                        \n",
    "print(\"- Proba map : \",P_2Coins_Omega)   #from sympy import Symbol\n",
    "\n",
    "ev_Property0 = lambda i, val, omega : omega[i] == val  \n",
    "ev_E = ev_Filter(partial(ev_Property0,0, Symbol(\"T\")) , re_2Coins_Omega) \n",
    "p_E = Pe(re_2Coins_Omega, ev_E)                                          \n",
    "print(\"- Event E : \",ev_E, \" Probability : \",p_E)\n",
    "\n",
    "ev_F = ev_Filter(partial(ev_Property0,1, Symbol(\"T\")) , re_2Coins_Omega) \n",
    "p_F = Pe(re_2Coins_Omega, ev_F)                                          \n",
    "print(\"- Event F : \",ev_F, \" Probabulity : \",p_F)\n",
    "\n",
    "ev_EF = ev_E & ev_F\n",
    "p_EF = Pe(re_2Coins_Omega, ev_EF)                                        \n",
    "print(\"- Event E et F : \",ev_EF, \" Probability : \", p_EF)\n",
    "\n",
    "ev_K = ev_E | ev_F                                                       \n",
    "p_K = p_E + p_F - p_EF                                                   \n",
    "print(\"- Event K (E or F) : \", ev_K, \" Probability : \", p_K)"
   ]
  },
  {
   "cell_type": "code",
   "execution_count": null,
   "metadata": {},
   "outputs": [],
   "source": [
    "# n enfants non jumeaux \n",
    "# proba au moins deux enfants ont le meme jour d'anniversaire\n",
    "# 365 jours/année et les jours sont equoprob\n",
    "#RE result as drop n birthdays in order from 365 days\n",
    "year = { d for d in range(365) }  # {d_1, d_2, ..., d_365}\n",
    "#(b_1, b_2, ..., b_n)\n",
    "n = 4\n",
    "print(year)\n",
    "re_Bdp_Omega = set(itProd(year, repeat=n))"
   ]
  },
  {
   "cell_type": "code",
   "execution_count": 102,
   "metadata": {},
   "outputs": [
    {
     "data": {
      "text/plain": [
       "{4: 1/3, 5: 1/3, 6: 1/3}"
      ]
     },
     "execution_count": 102,
     "metadata": {},
     "output_type": "execute_result"
    }
   ],
   "source": [
    "from sympy.stats import given, density, Die\n",
    "X = Die('X', 6)\n",
    "Y = given(X, X > 3)\n",
    "density(Y).dict     #{4: 1/3, 5: 1/3, 6: 1/3}"
   ]
  },
  {
   "cell_type": "code",
   "execution_count": 72,
   "metadata": {},
   "outputs": [
    {
     "name": "stdout",
     "output_type": "stream",
     "text": [
      "Mod(X, 2)\n"
     ]
    },
    {
     "data": {
      "text/plain": [
       "{1: 1/3, 3: 1/3, 5: 1/3}"
      ]
     },
     "execution_count": 72,
     "metadata": {},
     "output_type": "execute_result"
    }
   ],
   "source": [
    "X = Die('X', 6)\n",
    "Y = X % 2\n",
    "print(Y)\n",
    "\n",
    "Y = given(X, X % 2 > 0)\n",
    "density(Y).dict     #{4: 1/3, 5: 1/3, 6: 1/3}"
   ]
  },
  {
   "cell_type": "code",
   "execution_count": 46,
   "metadata": {},
   "outputs": [
    {
     "data": {
      "text/plain": [
       "{1: 1/3, 3: 1/3, 5: 1/3}"
      ]
     },
     "execution_count": 46,
     "metadata": {},
     "output_type": "execute_result"
    }
   ],
   "source": [
    "X = Die('X', 6) \n",
    "Y = X % 2\n",
    "Y = given(X, X % 2 > 0)\n",
    "density(Y).dict     #{4: 1/3, 5: 1/3, 6: 1/3}"
   ]
  },
  {
   "cell_type": "code",
   "execution_count": 121,
   "metadata": {},
   "outputs": [
    {
     "name": "stdout",
     "output_type": "stream",
     "text": [
      "Omega :  {131, 132, 112, 113, 114, 121, 123, 124}    Length :   90\n"
     ]
    }
   ],
   "source": [
    "from sympy.stats import FiniteRV, density\n",
    "R = {'r1','r2','r3','r4'}                   #R1 = {1,2,3,4}\n",
    "B = { 'b1', 'b2', 'b3', 'b4', 'b5', 'b6'}   #B1 = {1,2,3,4,5,6}\n",
    "U =  R | B                                  # rr:100    rb:200   br:300   bb:400\n",
    "\n",
    "codage = {'rr':100,'rb':200, 'br':300, 'bb':400}      #Omega = set(itArr(U, 2)) #[ i[0]+ i[1]*10 for  i in itArr(U, 2)])\n",
    "\n",
    "Omega = set([ codage[i[0][0]+i[1][0]]+ int(i[0][1])*10+int(i[1][1]) for  i in itArr(U, 2)])\n",
    "\n",
    "print('Omega : ', h(Omega,8),'   Length :  ', len(Omega))"
   ]
  },
  {
   "cell_type": "code",
   "execution_count": 116,
   "metadata": {},
   "outputs": [
    {
     "name": "stdout",
     "output_type": "stream",
     "text": [
      "P(A) =  2/5\n",
      "P(B) =  2/5\n",
      "P(AB) =  2/15\n",
      "P(B|A) =  1/3\n",
      "{112: 1/36, 113: 1/36, 114: 1/36, 121: 1/36, 123: 1/36, 124: 1/36, 131: 1/36, 132: 1/36, 134: 1/36, 141: 1/36, 142: 1/36, 143: 1/36, 211: 1/36, 212: 1/36, 213: 1/36, 214: 1/36, 215: 1/36, 216: 1/36, 221: 1/36, 222: 1/36, 223: 1/36, 224: 1/36, 225: 1/36, 226: 1/36, 231: 1/36, 232: 1/36, 233: 1/36, 234: 1/36, 235: 1/36, 236: 1/36, 241: 1/36, 242: 1/36, 243: 1/36, 244: 1/36, 245: 1/36, 246: 1/36}\n"
     ]
    }
   ],
   "source": [
    "from sympy.stats import DiscreteUniform      # equally likely over a, b, c, #  distribution over a range\n",
    "from sympy import symbols\n",
    "\n",
    "X = DiscreteUniform('X', Omega)                     \n",
    "Pdf = density(X).dict                          #print(X)\n",
    "\n",
    "from sympy.logic.boolalg import And, Or, Not    #print(h(A,4))\n",
    "from sympy.stats import P   #Y = symbol(X  - X % 100)\n",
    "\n",
    "A = X < 301                                  ;print('P(A) = ',P(A))     # A First red 100 + 200\n",
    "B = Or(X < 201, And(299 < X, X < 401))       ;print('P(B) = ',P(B))     # B Second red 100 + 200\n",
    "AB = X < 201                                 ;print('P(AB) = ',P(AB))   # AB First and Second red 100 + 200\n",
    "B_gv_A = given(B, A)                         ;print('P(B|A) = ', P(B_gv_A))          # B given A\n",
    "\n",
    "Y = given(X, X < 301)                        # B given A\n",
    "Pdf_Y = density(Y).dict \n",
    "print(Pdf_Y)\n",
    "#print(P( And(199 < Y,Y < 300)))\n",
    "\n",
    "from sympy.stats import rv\n",
    "#rv.pspace(Y)"
   ]
  },
  {
   "cell_type": "code",
   "execution_count": 85,
   "metadata": {},
   "outputs": [
    {
     "name": "stdout",
     "output_type": "stream",
     "text": [
      "{0: 0.1, 1: 0.2, 2: 0.3, 3: 0.4}\n"
     ]
    }
   ],
   "source": [
    "density0 = {0: .1, 1: .2, 2: .3, 3: .4}\n",
    "X = FiniteRV('X', density0)\n",
    "print(density(X).dict)                    #print(E(X),'      ',P(X >= 2))         #0.700000000000000"
   ]
  },
  {
   "cell_type": "code",
   "execution_count": 4,
   "metadata": {},
   "outputs": [
    {
     "name": "stdout",
     "output_type": "stream",
     "text": [
      "Random experiments sample space : \n",
      "− E1 Toss a Coin Omega :  {H, T}\n",
      "BernoulliDistribution(1/2, H, T)\n"
     ]
    }
   ],
   "source": [
    "# Listing L001 ( Abreviations  re : random experiment )\n",
    "from sympy.stats import Coin , Die, density\n",
    " # stats : SymPy statistics module\n",
    " # Coin(name , p=1/2) : Create a Finite model representing a Coin toss.\n",
    " # density : Create a probability model\n",
    "\n",
    "print('Random experiments sample space : ') #p0\n",
    "#E1\n",
    "re_Coin = Coin('re_Coin1')                           #re : toss coin\n",
    "re_Coin_Omega = set(density(re_Coin).dict.keys())   #get sample space\n",
    "print( \"− E1 Toss a Coin Omega : \" , re_Coin_Omega) #p1\n",
    "print(density(re_Coin))"
   ]
  },
  {
   "cell_type": "code",
   "execution_count": 5,
   "metadata": {},
   "outputs": [
    {
     "name": "stdout",
     "output_type": "stream",
     "text": [
      "− E2 Roll dice omega :  {1, 2, 3, 4, 5, 6}\n"
     ]
    }
   ],
   "source": [
    "# Die(name , side s=6) : Create a Finite model representing a fair die.\n",
    "#E2\n",
    "re_Die = Die('re_Die1')                           #re : toss coin\n",
    "re_Die_Omega = set(density(re_Die).dict.keys())   #get sample space\n",
    "print( \"− E2 Roll dice omega : \" , re_Die_Omega) #p1"
   ]
  },
  {
   "cell_type": "code",
   "execution_count": 6,
   "metadata": {},
   "outputs": [
    {
     "ename": "NameError",
     "evalue": "name 'it' is not defined",
     "output_type": "error",
     "traceback": [
      "\u001b[1;31m---------------------------------------------------------------------------\u001b[0m",
      "\u001b[1;31mNameError\u001b[0m                                 Traceback (most recent call last)",
      "\u001b[1;32m<ipython-input-6-a0e32bee02cd>\u001b[0m in \u001b[0;36m<module>\u001b[1;34m()\u001b[0m\n\u001b[0;32m      1\u001b[0m \u001b[1;31m#E3\u001b[0m\u001b[1;33m\u001b[0m\u001b[1;33m\u001b[0m\u001b[0m\n\u001b[1;32m----> 2\u001b[1;33m \u001b[0mre_3Dices_Omega\u001b[0m \u001b[1;33m=\u001b[0m \u001b[0mset\u001b[0m\u001b[1;33m(\u001b[0m\u001b[0mit\u001b[0m\u001b[1;33m.\u001b[0m\u001b[0mproduct\u001b[0m\u001b[1;33m(\u001b[0m\u001b[0mre_Die_Omega\u001b[0m \u001b[1;33m,\u001b[0m \u001b[0mrepeat\u001b[0m\u001b[1;33m=\u001b[0m\u001b[1;36m3\u001b[0m\u001b[1;33m)\u001b[0m\u001b[1;33m)\u001b[0m\u001b[1;33m\u001b[0m\u001b[0m\n\u001b[0m\u001b[0;32m      3\u001b[0m \u001b[0mprint\u001b[0m\u001b[1;33m(\u001b[0m\u001b[1;34m\"− E3 drop 3 Dices Dmega : \"\u001b[0m \u001b[1;33m,\u001b[0m \u001b[0mh\u001b[0m\u001b[1;33m(\u001b[0m\u001b[0mre_3Dices_Omega\u001b[0m\u001b[1;33m,\u001b[0m\u001b[1;36m4\u001b[0m\u001b[1;33m)\u001b[0m\u001b[1;33m)\u001b[0m \u001b[1;31m#p3\u001b[0m\u001b[1;33m\u001b[0m\u001b[0m\n\u001b[0;32m      4\u001b[0m \u001b[0mprint\u001b[0m\u001b[1;33m(\u001b[0m\u001b[1;34m\"- Omega length : \"\u001b[0m\u001b[1;33m,\u001b[0m \u001b[0mlen\u001b[0m\u001b[1;33m(\u001b[0m\u001b[0mre_3Dices_Omega\u001b[0m\u001b[1;33m)\u001b[0m\u001b[1;33m)\u001b[0m\u001b[1;33m\u001b[0m\u001b[0m\n\u001b[0;32m      5\u001b[0m \u001b[0mP_3Dices_Omega\u001b[0m \u001b[1;33m=\u001b[0m \u001b[0mPde\u001b[0m\u001b[1;33m(\u001b[0m\u001b[0mre_3Dices_Omega\u001b[0m\u001b[1;33m)\u001b[0m  \u001b[1;31m#;print(\"- Probability App : \",P_3Dices_Omega)\u001b[0m\u001b[1;33m\u001b[0m\u001b[0m\n",
      "\u001b[1;31mNameError\u001b[0m: name 'it' is not defined"
     ]
    }
   ],
   "source": [
    "#E3\n",
    "re_3Dices_Omega = set(it.product(re_Die_Omega , repeat=3))\n",
    "print(\"− E3 drop 3 Dices Dmega : \" , h(re_3Dices_Omega,4)) #p3\n",
    "print(\"- Omega length : \", len(re_3Dices_Omega))\n",
    "P_3Dices_Omega = Pde(re_3Dices_Omega)  #;print(\"- Probability App : \",P_3Dices_Omega)"
   ]
  },
  {
   "cell_type": "code",
   "execution_count": 7,
   "metadata": {},
   "outputs": [
    {
     "ename": "NameError",
     "evalue": "name 're_3Dices_Omega' is not defined",
     "output_type": "error",
     "traceback": [
      "\u001b[1;31m---------------------------------------------------------------------------\u001b[0m",
      "\u001b[1;31mNameError\u001b[0m                                 Traceback (most recent call last)",
      "\u001b[1;32m<ipython-input-7-59aa70ec4682>\u001b[0m in \u001b[0;36m<module>\u001b[1;34m()\u001b[0m\n\u001b[0;32m      3\u001b[0m \u001b[0mev_Filter\u001b[0m \u001b[1;33m=\u001b[0m  \u001b[1;32mlambda\u001b[0m \u001b[0mevProperty\u001b[0m \u001b[1;33m,\u001b[0m \u001b[0mreOmega\u001b[0m \u001b[1;33m:\u001b[0m \u001b[0mset\u001b[0m\u001b[1;33m(\u001b[0m\u001b[0mfilter\u001b[0m\u001b[1;33m(\u001b[0m\u001b[0mevProperty\u001b[0m\u001b[1;33m,\u001b[0m \u001b[0mreOmega\u001b[0m\u001b[1;33m)\u001b[0m\u001b[1;33m)\u001b[0m\u001b[1;33m\u001b[0m\u001b[0m\n\u001b[0;32m      4\u001b[0m \u001b[1;33m\u001b[0m\u001b[0m\n\u001b[1;32m----> 5\u001b[1;33m \u001b[0mev_E\u001b[0m \u001b[1;33m=\u001b[0m \u001b[0mev_Filter\u001b[0m\u001b[1;33m(\u001b[0m\u001b[0mev_Property\u001b[0m\u001b[1;33m,\u001b[0m \u001b[0mre_3Dices_Omega\u001b[0m\u001b[1;33m)\u001b[0m \u001b[1;33m;\u001b[0m\u001b[0mprint\u001b[0m\u001b[1;33m(\u001b[0m\u001b[1;34m\"- E Length: \"\u001b[0m\u001b[1;33m,\u001b[0m\u001b[0mlen\u001b[0m\u001b[1;33m(\u001b[0m\u001b[0mev_E\u001b[0m\u001b[1;33m)\u001b[0m\u001b[1;33m)\u001b[0m\u001b[1;33m\u001b[0m\u001b[0m\n\u001b[0m\u001b[0;32m      6\u001b[0m \u001b[0mp_E\u001b[0m \u001b[1;33m=\u001b[0m \u001b[0mPe\u001b[0m\u001b[1;33m(\u001b[0m\u001b[0mre_3Dices_Omega\u001b[0m\u001b[1;33m,\u001b[0m \u001b[0mev_E\u001b[0m\u001b[1;33m)\u001b[0m                \u001b[1;33m;\u001b[0m\u001b[0mprint\u001b[0m\u001b[1;33m(\u001b[0m\u001b[1;34m\"- Probability of event E : \"\u001b[0m\u001b[1;33m,\u001b[0m\u001b[0mp_E\u001b[0m\u001b[1;33m)\u001b[0m\u001b[1;33m\u001b[0m\u001b[0m\n",
      "\u001b[1;31mNameError\u001b[0m: name 're_3Dices_Omega' is not defined"
     ]
    }
   ],
   "source": [
    "#événement $E$ que 'le score du troisième dé est égal a la somme des scores des deux premiers\n",
    "ev_Property = lambda omega : omega[0]+omega[1] == omega[2]  #f((1,2,3)) True\n",
    "ev_Filter =  lambda evProperty , reOmega : set(filter(evProperty, reOmega))\n",
    "\n",
    "ev_E = ev_Filter(ev_Property, re_3Dices_Omega) ;print(\"- E Length: \",len(ev_E))    \n",
    "p_E = Pe(re_3Dices_Omega, ev_E)                ;print(\"- Probability of event E : \",p_E)"
   ]
  },
  {
   "cell_type": "code",
   "execution_count": 8,
   "metadata": {},
   "outputs": [
    {
     "ename": "NameError",
     "evalue": "name 'it' is not defined",
     "output_type": "error",
     "traceback": [
      "\u001b[1;31m---------------------------------------------------------------------------\u001b[0m",
      "\u001b[1;31mNameError\u001b[0m                                 Traceback (most recent call last)",
      "\u001b[1;32m<ipython-input-8-18af5bc1edb9>\u001b[0m in \u001b[0;36m<module>\u001b[1;34m()\u001b[0m\n\u001b[1;32m----> 1\u001b[1;33m \u001b[0mre_2Coins_Omega\u001b[0m \u001b[1;33m=\u001b[0m \u001b[0mset\u001b[0m\u001b[1;33m(\u001b[0m\u001b[0mit\u001b[0m\u001b[1;33m.\u001b[0m\u001b[0mproduct\u001b[0m\u001b[1;33m(\u001b[0m\u001b[0mre_Coin_Omega\u001b[0m \u001b[1;33m,\u001b[0m \u001b[0mrepeat\u001b[0m\u001b[1;33m=\u001b[0m\u001b[1;36m2\u001b[0m\u001b[1;33m)\u001b[0m\u001b[1;33m)\u001b[0m\u001b[1;33m\u001b[0m\u001b[0m\n\u001b[0m\u001b[0;32m      2\u001b[0m \u001b[0mprint\u001b[0m\u001b[1;33m(\u001b[0m\u001b[1;34m\"- Tosse 2 Coins Omega : \"\u001b[0m\u001b[1;33m,\u001b[0m\u001b[0mre_2Coins_Omega\u001b[0m\u001b[1;33m)\u001b[0m\u001b[1;33m\u001b[0m\u001b[0m\n\u001b[0;32m      3\u001b[0m \u001b[1;33m\u001b[0m\u001b[0m\n\u001b[0;32m      4\u001b[0m \u001b[0mP_2Coins_Omega\u001b[0m \u001b[1;33m=\u001b[0m \u001b[0mPde\u001b[0m\u001b[1;33m(\u001b[0m\u001b[0mre_2Coins_Omega\u001b[0m\u001b[1;33m)\u001b[0m\u001b[1;33m\u001b[0m\u001b[0m\n\u001b[0;32m      5\u001b[0m \u001b[0mprint\u001b[0m\u001b[1;33m(\u001b[0m\u001b[1;34m\"- Proba map : \"\u001b[0m\u001b[1;33m,\u001b[0m\u001b[0mP_2Coins_Omega\u001b[0m\u001b[1;33m)\u001b[0m   \u001b[1;31m#from sympy import Symbol\u001b[0m\u001b[1;33m\u001b[0m\u001b[0m\n",
      "\u001b[1;31mNameError\u001b[0m: name 'it' is not defined"
     ]
    }
   ],
   "source": [
    "re_2Coins_Omega = set(it.product(re_Coin_Omega , repeat=2))  \n",
    "print(\"- Tosse 2 Coins Omega : \",re_2Coins_Omega)\n",
    "\n",
    "P_2Coins_Omega = Pde(re_2Coins_Omega)                        \n",
    "print(\"- Proba map : \",P_2Coins_Omega)   #from sympy import Symbol\n",
    "\n",
    "ev_Property0 = lambda i, val, omega : omega[i] == val  \n",
    "ev_E = ev_Filter(partial(ev_Property0,0, Symbol(\"T\")) , re_2Coins_Omega) \n",
    "p_E = Pe(re_2Coins_Omega, ev_E)                                          \n",
    "print(\"- Event E : \",ev_E, \" Probability : \",p_E)\n",
    "\n",
    "ev_F = ev_Filter(partial(ev_Property0,1, Symbol(\"T\")) , re_2Coins_Omega) \n",
    "p_F = Pe(re_2Coins_Omega, ev_F)                                          \n",
    "print(\"- Event F : \",ev_F, \" Probabulity : \",p_F)\n",
    "\n",
    "ev_EF = ev_E & ev_F\n",
    "p_EF = Pe(re_2Coins_Omega, ev_EF)                                        \n",
    "print(\"- Event E et F : \",ev_EF, \" Probability : \", p_EF)\n",
    "\n",
    "ev_K = ev_E | ev_F                                                       \n",
    "p_K = p_E + p_F - p_EF                                                   \n",
    "print(\"- Event K (E or F) : \", ev_K, \" Probability : \", p_K)"
   ]
  },
  {
   "cell_type": "code",
   "execution_count": null,
   "metadata": {},
   "outputs": [],
   "source": []
  },
  {
   "cell_type": "markdown",
   "metadata": {},
   "source": [
    "# Probabilité conditionelle\n",
    "#### Probabilté conditionelle\n",
    "$P(B) \\neq 0$\n",
    "$$P(A|B) = \\frac{P(A \\cap B)}{P(B)}$$\n",
    "\n",
    "$P_{|B}()$ est une probabilité\n",
    "\n",
    "#### Probabilté composée\n",
    "$$P(A_1 \\cap A_2 \\cap \\cdots \\cap A_n) = P(A_1)P(A_2|A_1)P(A_3|A_1 \\cap A_2) \\cdots \n",
    "P(A_3|A_1 \\cap A_2 \\cdots \\cap A_{n-1} )$$\n",
    "\n",
    "#### Probabilté totale\n",
    "${E_i}_{i \\in 1..n}$ est une partition de $\\Omega$, et A un evenement :\n",
    "$$\n",
    "P(A) = P(A|E_1)P(E_1) + P(A|E_2)P(E_2) + \\cdots + P(A|E_n)P(E_n)\n",
    "$$\n",
    "\n",
    "\n",
    "#### Formule de Bayes\n",
    "$$\n",
    "P(A|B) = \\frac{P(B|A)P(A)}{P(B|A)P(A) + P(B|A^c)P(A^c)}\n",
    "$$\n",
    "\n",
    "## Independance\n",
    "${A_i}_{i \\in 1..n}$\n",
    "\n",
    "$$\n",
    "P(\\bigcap_{i=1}^n A_i ) = \\prod_{i=1}^n P(A_i)  \n",
    "$$"
   ]
  },
  {
   "cell_type": "code",
   "execution_count": 11,
   "metadata": {},
   "outputs": [
    {
     "name": "stdout",
     "output_type": "stream",
     "text": [
      "0.5072972343239857  \t  0.7063162427192688  \t  0.9031516114817354  \t  0.9901224593411699\n"
     ]
    },
    {
     "data": {
      "image/png": "[encoded data removed]",
      "text/plain": [
       "<matplotlib.figure.Figure at 0xa239319a90>"
      ]
     },
     "metadata": {
      "needs_background": "light"
     },
     "output_type": "display_data"
    }
   ],
   "source": [
    "import numpy as np\n",
    "from matplotlib import pyplot as plt   #from scipy.stats import cauchy\n",
    "\n",
    "#F(n) = 1 - A_365^n / 365^n\n",
    "F = lambda n : 1 - np.prod([(365-i)/365 for i in range(n)])\n",
    "E = [F(i) for i in range(100)]   # F(i) i:1..100\n",
    "print(F(23), ' \\t ',F(30), ' \\t ', F(41), ' \\t ', F(57))\n",
    "\n",
    "#n=100\n",
    "plt.plot(range(100), E, linewidth=1)\n",
    "xposition = [23, 30, 41, 57]\n",
    "for xc in xposition: plt.axvline(x=xc, color ='red', linewidth=1, linestyle='--')\n",
    "\n",
    "yposition = [0.5, 0.7, 0.9, 0.99]\n",
    "for yc in yposition: plt.hlines(y=yc, xmin=0, xmax=100, linewidth=1, color='r', linestyle='--')\n",
    "\n",
    "plt.xlabel('$n$')\n",
    "plt.ylabel(r'$F(n)$')\n",
    "plt.title('Birth day problem')    \n",
    "plt.show()"
   ]
  },
  {
   "cell_type": "code",
   "execution_count": 14,
   "metadata": {},
   "outputs": [
    {
     "data": {
      "image/png": "[encoded data removed]",
      "text/plain": [
       "<matplotlib.figure.Figure at 0xa23a65acc0>"
      ]
     },
     "metadata": {
      "needs_background": "light"
     },
     "output_type": "display_data"
    }
   ],
   "source": [
    "from sympy.stats import Poisson\n",
    "\n",
    "#setup_text_plots(fontsize=8, usetex=True)\n",
    "#------------------------------------------------------------\n",
    "# Define the distribution parameters to be plotted\n",
    "mu_values = [1, 5, 15]\n",
    "linestyles = ['-', '--', ':']\n",
    "\n",
    "fig, ax = plt.subplots(figsize=(5, 3.75))\n",
    "x = np.arange(-20, 200)\n",
    "    \n",
    "for mu, ls in zip(mu_values, linestyles):\n",
    "    dist = density(Poisson(\"P\",mu))\n",
    "    y = [dist(i) for i in x]\n",
    "    plt.step(x, y, color='black', label=r'$\\mu=%i$' % mu, linestyle='steps-mid')  #dist(x))\n",
    "    \n",
    "\n",
    "plt.xlim(-0.5, 30)\n",
    "plt.ylim(0, 0.4)\n",
    "\n",
    "plt.xlabel('$x$')\n",
    "plt.ylabel(r'$p(x|\\mu)$')\n",
    "plt.title('Poisson Distribution')\n",
    "\n",
    "plt.legend(\"123\")\n",
    "plt.show()"
   ]
  },
  {
   "cell_type": "code",
   "execution_count": 13,
   "metadata": {},
   "outputs": [
    {
     "data": {
      "text/plain": [
       "[0.303265329856317,\n",
       " 0.0758163324640792,\n",
       " 0.0126360554106799,\n",
       " 0.00157950692633498,\n",
       " 0.000157950692633498,\n",
       " 1.31625577194582e-5,\n",
       " 9.40182694247014e-7,\n",
       " 5.87614183904383e-8,\n",
       " 3.26452324391324e-9]"
      ]
     },
     "execution_count": 13,
     "metadata": {},
     "output_type": "execute_result"
    }
   ],
   "source": [
    "x = np.arange(1, 10)\n",
    "x\n",
    "dist = density(Poisson(\"P\",0.5))\n",
    "[ dist(i) for i in x ]"
   ]
  },
  {
   "cell_type": "code",
   "execution_count": null,
   "metadata": {},
   "outputs": [],
   "source": []
  }
 ],
 "metadata": {
  "kernelspec": {
   "display_name": "Python 3",
   "language": "python",
   "name": "python3"
  },
  "language_info": {
   "codemirror_mode": {
    "name": "ipython",
    "version": 3
   },
   "file_extension": ".py",
   "mimetype": "text/x-python",
   "name": "python",
   "nbconvert_exporter": "python",
   "pygments_lexer": "ipython3",
   "version": "3.6.4"
  }
 },
 "nbformat": 4,
 "nbformat_minor": 2
}
